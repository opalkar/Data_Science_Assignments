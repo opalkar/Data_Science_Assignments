{
 "cells": [
  {
   "cell_type": "code",
   "execution_count": 1,
   "id": "f01dc550-fb82-4dfa-8c6f-04ffcb686b4d",
   "metadata": {},
   "outputs": [
    {
     "name": "stdout",
     "output_type": "stream",
     "text": [
      "After swapping:\n",
      "x = 20\n",
      "y = 10\n"
     ]
    }
   ],
   "source": [
    "# TOPIC: Python Basics Variable\n",
    "\n",
    "# 1. Declare two variables, `x` and `y`, and assign them integer values. \n",
    "#Swap the values of these variables without using any temporary variable.\n",
    "\n",
    "x = 10 # x variable  \n",
    "y = 20 # y variable\n",
    "\n",
    "# Swap the values of x and y\n",
    "x = x + y  # x = 10+20 = 30\n",
    "y = x - y  # y = 30-20 = 10\n",
    "x = x - y  # x = 30-10 = 20\n",
    "\n",
    "print(\"After swapping:\")\n",
    "print(\"x =\", x)\n",
    "print(\"y =\", y)"
   ]
  },
  {
   "cell_type": "code",
   "execution_count": null,
   "id": "f1514d4f-0caa-4a74-ae89-adb4327cd0d9",
   "metadata": {},
   "outputs": [],
   "source": [
    "#2. Create a program that calculates the area of a rectangle. Take the \n",
    "#length and width as inputs from the user and store them in variables.Calculate and display the area.\n",
    "\n",
    "# Get user input for length and width\n",
    "length = float(input(\"Enter the length of the rectangle: \"))\n",
    "width = float(input(\"Enter the width of the rectangle: \"))\n",
    "\n",
    "# Calculate the area\n",
    "area = length * width\n",
    "\n",
    "# Display the area\n",
    "print(\"The area of the rectangle is:\", area)\n"
   ]
  },
  {
   "cell_type": "code",
   "execution_count": null,
   "id": "d8fc2a18-9560-4345-b28c-d79488fc5aa4",
   "metadata": {},
   "outputs": [],
   "source": [
    "#3. Write a Python program that converts temperature from Celsius to \n",
    "#Fahrenheit. Take the temperature in Celsius as input, store it in a\n",
    "#variable, convert it to Fahrenheit, and display the result.\n",
    "\n",
    "# Get user input for temperature in Celsius\n",
    "celsius = float(input(\"Enter temperature in Celsius: \"))\n",
    "\n",
    "# Convert Celsius to Fahrenheit\n",
    "fahrenheit = (celsius * 9/5) + 32\n",
    "\n",
    "# Display the converted temperature in Fahrenheit\n",
    "print(\"Temperature in Fahrenheit:\", fahrenheit)\n"
   ]
  },
  {
   "cell_type": "code",
   "execution_count": null,
   "id": "bcdcabfa-5143-4f66-9dc2-a817fbc593a0",
   "metadata": {},
   "outputs": [],
   "source": [
    "# TOPIC: String Based Questions\n",
    "#1. Write a Python program that takes a string as input and prints the length of the string.\n",
    "\n",
    "# Get user input for a string\n",
    "input_string = input(\"Enter a string: \")\n",
    "\n",
    "# Calculate and display the length of the string\n",
    "string_length = len(input_string)\n",
    "print(\"The length of the string is:\", string_length)\n",
    "\n"
   ]
  },
  {
   "cell_type": "code",
   "execution_count": null,
   "id": "2cdc2e2c-bacd-41f6-98e2-7a74b580f384",
   "metadata": {},
   "outputs": [],
   "source": [
    "#2. Create a program that takes a sentence from the user and counts the number of vowels (a, e, i, o, u) in the string.\n",
    "\n",
    "# Get user input for a sentence\n",
    "sentence = input(\"Enter a sentence: \")\n",
    "\n",
    "# Convert the sentence to lowercase for case-insensitive counting\n",
    "lower_sentence = sentence.lower()\n",
    "\n",
    "# Initialize a variable to count the number of vowels\n",
    "vowel_count = 0\n",
    "\n",
    "# Define the set of vowel characters\n",
    "vowels = {'a', 'e', 'i', 'o', 'u'}\n",
    "\n",
    "# Count the number of vowels in the sentence\n",
    "for char in lower_sentence:\n",
    "    if char in vowels:\n",
    "        vowel_count += 1\n",
    "\n",
    "# Display the count of vowels\n",
    "print(\"Number of vowels in the sentence:\", vowel_count)\n"
   ]
  },
  {
   "cell_type": "code",
   "execution_count": null,
   "id": "f3a6bc18-6b12-42e0-9612-984435ae1d0c",
   "metadata": {},
   "outputs": [],
   "source": [
    "#3. Given a string, reverse the order of characters using string slicing and print the reversed string.\n",
    "\n",
    "# Get user input for a string\n",
    "original_string = input(\"Enter a string: \")\n",
    "\n",
    "# Reverse the string using string slicing\n",
    "reversed_string = original_string[::-1]\n",
    "\n",
    "# Display the reversed string\n",
    "print(\"Reversed string:\", reversed_string)\n"
   ]
  },
  {
   "cell_type": "code",
   "execution_count": null,
   "id": "d8381f87-9012-4f86-9020-a364da612b65",
   "metadata": {},
   "outputs": [],
   "source": [
    "#4. Write a program that takes a string as input and checks if it is a palindrome (reads the same forwards and backwards).\n",
    "# Get user input for a string\n",
    "input_string = input(\"Enter a string: \")\n",
    "\n",
    "# Remove spaces and convert to lowercase for case-insensitive comparison\n",
    "cleaned_string = input_string.replace(\" \", \"\").lower()\n",
    "\n",
    "# Reverse the cleaned string\n",
    "reversed_string = cleaned_string[::-1]\n",
    "\n",
    "# Check if the original and reversed strings are the same\n",
    "if cleaned_string == reversed_string:\n",
    "    print(\"The input string is a palindrome.\")\n",
    "else:\n",
    "    print(\"The input string is not a palindrome.\")\n"
   ]
  },
  {
   "cell_type": "code",
   "execution_count": null,
   "id": "b2018234-ce5a-489b-b9ef-36f7186176e7",
   "metadata": {},
   "outputs": [],
   "source": [
    "#5. Create a program that takes a string as input and removes all the\n",
    "#spaces from it. Print the modified string without spaces.\n",
    "\n",
    "# Get user input for a string\n",
    "input_string = input(\"Enter a string: \")\n",
    "\n",
    "# Remove spaces in string\n",
    "new_string =  input_string.replace(\" \",\"\")\n",
    "\n",
    "# Display the modified string without spaces\n",
    "print(\"New string without spaces:\", new_string)"
   ]
  }
 ],
 "metadata": {
  "kernelspec": {
   "display_name": "Python 3 (ipykernel)",
   "language": "python",
   "name": "python3"
  },
  "language_info": {
   "codemirror_mode": {
    "name": "ipython",
    "version": 3
   },
   "file_extension": ".py",
   "mimetype": "text/x-python",
   "name": "python",
   "nbconvert_exporter": "python",
   "pygments_lexer": "ipython3",
   "version": "3.10.8"
  }
 },
 "nbformat": 4,
 "nbformat_minor": 5
}
